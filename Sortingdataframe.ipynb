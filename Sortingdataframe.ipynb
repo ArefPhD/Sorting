{
  "nbformat": 4,
  "nbformat_minor": 0,
  "metadata": {
    "colab": {
      "name": "Untitled164.ipynb",
      "private_outputs": true,
      "provenance": []
    },
    "kernelspec": {
      "name": "python3",
      "display_name": "Python 3"
    },
    "language_info": {
      "name": "python"
    }
  },
  "cells": [
    {
      "cell_type": "code",
      "execution_count": null,
      "metadata": {
        "id": "lFmRrFbWWD6z"
      },
      "outputs": [],
      "source": [
        "import pandas as pd\n",
        "\n",
        "column_subset = [\n",
        "    \"id\",\n",
        "    \"make\",\n",
        "    \"model\",\n",
        "    \"year\",\n",
        "    \"cylinders\",\n",
        "    \"fuelType\",\n",
        "    \"trany\",\n",
        "    \"mpgData\",\n",
        "    \"city08\",\n",
        "    \"highway08\"\n",
        "]\n",
        "\n",
        "df = pd.read_csv(\n",
        "    \"https://www.fueleconomy.gov/feg/epadata/vehicles.csv\",\n",
        "    usecols=column_subset,\n",
        "    nrows=100\n",
        ")\n",
        "\n",
        "df.head()"
      ]
    },
    {
      "cell_type": "code",
      "source": [
        "df.sort_values(\"city08\")"
      ],
      "metadata": {
        "id": "mfyYf2JqWQAE"
      },
      "execution_count": null,
      "outputs": []
    },
    {
      "cell_type": "code",
      "source": [
        "df.sort_values(\n",
        "...     by=\"city08\",\n",
        "...     ascending=False\n",
        "... )"
      ],
      "metadata": {
        "id": "x1_Wl01pWogQ"
      },
      "execution_count": null,
      "outputs": []
    },
    {
      "cell_type": "markdown",
      "source": [
        "# **It sorts again based on City08 but if there are duplicates in city08 within the duplicates again sorting is performed **"
      ],
      "metadata": {
        "id": "-3ms1cC1XLkC"
      }
    },
    {
      "cell_type": "code",
      "source": [
        " df.sort_values(\n",
        "...     by=[\"city08\", \"highway08\"]\n",
        "... )[[\"city08\", \"highway08\"]]"
      ],
      "metadata": {
        "id": "mAPpYBrPXEoK"
      },
      "execution_count": null,
      "outputs": []
    },
    {
      "cell_type": "code",
      "source": [
        "sorted_df = df.sort_values(by=[\"make\", \"model\"])"
      ],
      "metadata": {
        "id": "4ZtfU_T3XjPu"
      },
      "execution_count": null,
      "outputs": []
    },
    {
      "cell_type": "code",
      "source": [
        "sorted_df.sort_index()"
      ],
      "metadata": {
        "id": "24RqvXHYXfS2"
      },
      "execution_count": null,
      "outputs": []
    },
    {
      "cell_type": "code",
      "source": [
        "df"
      ],
      "metadata": {
        "id": "3VvwyzQ1YAaa"
      },
      "execution_count": null,
      "outputs": []
    },
    {
      "cell_type": "markdown",
      "source": [
        "# **IF we want to sort based on column names we use the following command**"
      ],
      "metadata": {
        "id": "3GCgjh50YSNn"
      }
    },
    {
      "cell_type": "code",
      "source": [
        "df.sort_index(axis=1, ascending=False)"
      ],
      "metadata": {
        "id": "mlDYxlRdX-dF"
      },
      "execution_count": null,
      "outputs": []
    },
    {
      "cell_type": "markdown",
      "source": [
        "# **Now here we do some multiple regression using MLP (feedfoward)**"
      ],
      "metadata": {
        "id": "0J7wwf51YW2m"
      }
    },
    {
      "cell_type": "code",
      "source": [
        ""
      ],
      "metadata": {
        "id": "2vLVU6IdYbUy"
      },
      "execution_count": null,
      "outputs": []
    }
  ]
}